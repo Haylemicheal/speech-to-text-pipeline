{
 "cells": [
  {
   "cell_type": "code",
   "execution_count": 1,
   "id": "3d3b8954-a6b8-458f-9b31-0c5f86dc9dc7",
   "metadata": {},
   "outputs": [],
   "source": [
    "from kafka_producer import KProducerClass"
   ]
  },
  {
   "cell_type": "code",
   "execution_count": 2,
   "id": "4c5ce42a-23cd-45cd-9175-c3066f834058",
   "metadata": {},
   "outputs": [],
   "source": [
    "pClass = KProducerClass()\n",
    "producer = pClass.create_producer()"
   ]
  },
  {
   "cell_type": "code",
   "execution_count": 3,
   "id": "75292799-67ec-4812-8c58-ca1904f3aeae",
   "metadata": {},
   "outputs": [
    {
     "name": "stdout",
     "output_type": "stream",
     "text": [
      "\n",
      "test\n",
      "0\n",
      "40\n"
     ]
    }
   ],
   "source": [
    "# example using audio files saved in storage\n",
    "# using an example test-topic called 'test'\n",
    "filename1 = 'hello world test.m4a'\n",
    "with open(filename1, 'rb') as fd:\n",
    "    contents = fd.read() # content is in bytes\n",
    "    rec_metadata = pClass.publish_message(producer, 'test', contents)\n",
    "    print (rec_metadata.topic)\n",
    "    print (rec_metadata.partition)\n",
    "    print (rec_metadata.offset)"
   ]
  },
  {
   "cell_type": "code",
   "execution_count": 5,
   "id": "b08eac73-f2e2-4bda-88fa-d8012e5db115",
   "metadata": {},
   "outputs": [
    {
     "name": "stdout",
     "output_type": "stream",
     "text": [
      "\n",
      "test\n",
      "0\n",
      "41\n"
     ]
    }
   ],
   "source": [
    "# second example using another audio file\n",
    "# using an example test-topic called 'test'\n",
    "filename2 = 'Record (online-voice-recorder.com).mp3'\n",
    "with open(filename2, 'rb') as fd:\n",
    "    contents = fd.read() # content is in bytes\n",
    "    rec_metadata = pClass.publish_message(producer, 'test', contents)\n",
    "    print (rec_metadata.topic)\n",
    "    print (rec_metadata.partition)\n",
    "    print (rec_metadata.offset)"
   ]
  },
  {
   "cell_type": "code",
   "execution_count": null,
   "id": "b0b34922-6ec3-4e97-be82-a264a8e076b5",
   "metadata": {},
   "outputs": [],
   "source": []
  }
 ],
 "metadata": {
  "kernelspec": {
   "display_name": "Python 3.10.6 ('week7-data-pipeline': venv)",
   "language": "python",
   "name": "python3"
  },
  "language_info": {
   "codemirror_mode": {
    "name": "ipython",
    "version": 3
   },
   "file_extension": ".py",
   "mimetype": "text/x-python",
   "name": "python",
   "nbconvert_exporter": "python",
   "pygments_lexer": "ipython3",
   "version": "3.10.6"
  },
  "vscode": {
   "interpreter": {
    "hash": "b5af4a756799432d265e1bb76bd5a9de86568d929245af5e21b3f1485c51a292"
   }
  }
 },
 "nbformat": 4,
 "nbformat_minor": 5
}
