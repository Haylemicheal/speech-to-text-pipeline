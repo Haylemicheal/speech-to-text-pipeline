{
 "cells": [
  {
   "cell_type": "code",
   "execution_count": 1,
   "id": "63bf627c-ccef-451f-859c-84b9a233a46a",
   "metadata": {},
   "outputs": [],
   "source": [
    "from kafka_connect import KafkaConnect"
   ]
  },
  {
   "cell_type": "code",
   "execution_count": 2,
   "id": "09d44ff1-b6ac-484a-b851-1bb9e5474217",
   "metadata": {},
   "outputs": [
    {
     "data": {
      "text/plain": [
       "(0, 10, 2)"
      ]
     },
     "execution_count": 2,
     "metadata": {},
     "output_type": "execute_result"
    }
   ],
   "source": [
    "connect = KafkaConnect()\n",
    "kafka_client = connect.connect_to_kafka()\n",
    "kafka_client.config[\"api_version\"]"
   ]
  },
  {
   "cell_type": "code",
   "execution_count": 3,
   "id": "5b17d9d2-21a8-4160-859f-97d1485a56c4",
   "metadata": {},
   "outputs": [
    {
     "name": "stdout",
     "output_type": "stream",
     "text": [
      "['test', 'g3-politics', 'g2-business', 'g4-entertainment', 'g2-sport', 'g1-test-topic', 'g4-politics', 'g4_tst_topic', 'test_topic', 'g4-sport', 'g2-national_news', 'g2-international_news', 'test-topic', 'test-topic3', 'g2-entertainment', 'g3-international', 'g3-local', '__consumer_offsets', 'g4-amharic', 'g4_test_topic', 'test-topic1', 'test-topic5', '__amazon_msk_canary', 'g4-business', 'g3-business', 'g5-untranscribed-text', 'g4-international', 'demo-instance', 'g2-politics', 'g3-sport', 'g3-entertainment', 'g1-first-topic', 'g4-local']\n"
     ]
    }
   ],
   "source": [
    "cluster_topics = connect.fetch_topics_list(kafka_client)\n",
    "print(cluster_topics)"
   ]
  },
  {
   "cell_type": "code",
   "execution_count": 4,
   "id": "a6cc9b59-d390-4709-8bc8-031292cdbec6",
   "metadata": {},
   "outputs": [
    {
     "name": "stdout",
     "output_type": "stream",
     "text": [
      "g3-politics\n",
      "g3-international\n",
      "g3-local\n",
      "g3-business\n",
      "g3-sport\n",
      "g3-entertainment\n"
     ]
    }
   ],
   "source": [
    "connect.find_group3_topics(cluster_topics)"
   ]
  },
  {
   "cell_type": "code",
   "execution_count": null,
   "id": "2ec8153d-2ef2-4026-b4e9-bdbf6a6e3559",
   "metadata": {},
   "outputs": [],
   "source": []
  }
 ],
 "metadata": {
  "kernelspec": {
   "display_name": "Python 3 (ipykernel)",
   "language": "python",
   "name": "python3"
  },
  "language_info": {
   "codemirror_mode": {
    "name": "ipython",
    "version": 3
   },
   "file_extension": ".py",
   "mimetype": "text/x-python",
   "name": "python",
   "nbconvert_exporter": "python",
   "pygments_lexer": "ipython3",
   "version": "3.9.12"
  }
 },
 "nbformat": 4,
 "nbformat_minor": 5
}
